{
  "nbformat": 4,
  "nbformat_minor": 0,
  "metadata": {
    "colab": {
      "provenance": []
    },
    "kernelspec": {
      "name": "python3",
      "display_name": "Python 3"
    },
    "language_info": {
      "name": "python"
    }
  },
  "cells": [
    {
      "cell_type": "markdown",
      "source": [
        "# CNN Model"
      ],
      "metadata": {
        "id": "Ob8njFe-7CZU"
      }
    },
    {
      "cell_type": "markdown",
      "source": [
        "##Connecting Google Drive :"
      ],
      "metadata": {
        "id": "7Lr3U7W73vUk"
      }
    },
    {
      "cell_type": "code",
      "source": [
        "from google.colab import drive\n",
        "drive.mount('/content/drive')"
      ],
      "metadata": {
        "colab": {
          "base_uri": "https://localhost:8080/"
        },
        "id": "LIO0wpCW3NKZ",
        "outputId": "a2d828b8-def0-4020-9797-d8a57f66f17f"
      },
      "execution_count": 1,
      "outputs": [
        {
          "output_type": "stream",
          "name": "stdout",
          "text": [
            "Drive already mounted at /content/drive; to attempt to forcibly remount, call drive.mount(\"/content/drive\", force_remount=True).\n"
          ]
        }
      ]
    },
    {
      "cell_type": "markdown",
      "source": [
        "##Importing Libraries:"
      ],
      "metadata": {
        "id": "udlM4hnd47_j"
      }
    },
    {
      "cell_type": "code",
      "source": [
        "! pip install mne"
      ],
      "metadata": {
        "id": "biFyhrT75BMj"
      },
      "execution_count": null,
      "outputs": []
    },
    {
      "cell_type": "code",
      "source": [
        "import numpy as np\n",
        "import os\n",
        "from sklearn.metrics import confusion_matrix\n",
        "import seaborn as sn; sn.set(font_scale=1.4)\n",
        "from sklearn.utils import shuffle\n",
        "import matplotlib.pyplot as plt\n",
        "import cv2\n",
        "import tensorflow as tf\n",
        "from tqdm import tqdm\n",
        "import mne\n",
        "import numpy as np\n",
        "from sklearn.model_selection import train_test_split\n",
        "from keras.models import Sequential\n",
        "from keras.layers import Dense\n",
        "from tensorflow.keras.callbacks import EarlyStopping"
      ],
      "metadata": {
        "id": "jF-BrxiN3kpy"
      },
      "execution_count": 2,
      "outputs": []
    },
    {
      "cell_type": "code",
      "source": [
        "import mne\n",
        "import numpy as np\n",
        "import pandas as pd\n",
        "import matplotlib.pyplot as plt\n",
        "from sklearn.discriminant_analysis import LinearDiscriminantAnalysis\n",
        "from sklearn.model_selection import ShuffleSplit, cross_val_score\n",
        "from sklearn.pipeline import Pipeline\n",
        "\n",
        "from mne import Epochs, events_from_annotations, pick_types\n",
        "from mne.channels import make_standard_montage\n",
        "from mne.datasets import eegbci\n",
        "from mne.decoding import CSP\n",
        "from mne.io import concatenate_raws, read_raw_edf\n",
        "import librosa.display\n",
        "from scipy.signal import spectrogram, hamming, stft\n",
        "from tqdm import tqdm\n",
        "import os\n",
        "from mne.preprocessing import ICA\n",
        "from sklearn.preprocessing import LabelEncoder\n",
        "from keras.utils import to_categorical\n"
      ],
      "metadata": {
        "id": "W_ukw09xC6Xw"
      },
      "execution_count": 3,
      "outputs": []
    },
    {
      "cell_type": "markdown",
      "source": [
        "##Loading Dataset :"
      ],
      "metadata": {
        "id": "zPQ81xwB5rXK"
      }
    },
    {
      "cell_type": "code",
      "source": [
        "dataset='/content/drive/MyDrive/BCI Dataset/EEG-Image'"
      ],
      "metadata": {
        "id": "YawW58JM5oss"
      },
      "execution_count": 14,
      "outputs": []
    },
    {
      "cell_type": "code",
      "source": [
        "class_names_label=[\"H\",\"MDD\"]"
      ],
      "metadata": {
        "id": "IDbh3H2GjZ24"
      },
      "execution_count": 15,
      "outputs": []
    },
    {
      "cell_type": "code",
      "source": [
        "datas = []\n",
        "labels = []\n",
        "\n",
        "IMAGE_SIZE = (255, 255)\n",
        "\n",
        "output=[]\n",
        "\n",
        "print(\"Loading {}\".format(dataset))\n",
        "\n",
        "for folder in os.listdir(dataset):\n",
        "    for file in tqdm(os.listdir(os.path.join(dataset, folder))):\n",
        "\n",
        "        path = os.path.join(os.path.join(dataset, folder), file)\n",
        "\n",
        "                # Open and resize the img\n",
        "        image = cv2.imread(path)\n",
        "        image = image[6:208,92:420]\n",
        "        image = cv2.cvtColor(image, cv2.COLOR_BGR2RGB)\n",
        "        image = cv2.resize(image, IMAGE_SIZE)\n",
        "\n",
        "        datas.append(image)\n",
        "\n",
        "        labels.append(folder)\n",
        "\n",
        "datas = np.array(datas, dtype='float32')\n",
        "labels = np.array(labels)\n",
        "\n",
        "output.append((datas, labels))"
      ],
      "metadata": {
        "colab": {
          "base_uri": "https://localhost:8080/"
        },
        "id": "0dr8vsh15z7r",
        "outputId": "8bbb97c2-908a-4f0f-b451-aa6a1a701649"
      },
      "execution_count": 16,
      "outputs": [
        {
          "output_type": "stream",
          "name": "stdout",
          "text": [
            "Loading /content/drive/MyDrive/BCI Dataset/EEG-Image\n"
          ]
        },
        {
          "output_type": "stream",
          "name": "stderr",
          "text": [
            "100%|██████████| 25/25 [00:01<00:00, 21.81it/s]\n",
            "100%|██████████| 30/30 [00:05<00:00,  5.51it/s]\n"
          ]
        }
      ]
    },
    {
      "cell_type": "markdown",
      "source": [
        "## Model"
      ],
      "metadata": {
        "id": "Wp01T4rrTZWc"
      }
    },
    {
      "cell_type": "code",
      "source": [
        "model = tf.keras.Sequential([\n",
        "    tf.keras.layers.Conv2D(16, (3, 3), activation = 'relu', input_shape = (255, 255, 3)),\n",
        "    tf.keras.layers.MaxPooling2D(2,2),\n",
        "    tf.keras.layers.BatchNormalization(),\n",
        "    tf.keras.layers.Dropout(0.1),\n",
        "    tf.keras.layers.Conv2D(32, (3, 3), activation = 'relu'),\n",
        "    tf.keras.layers.MaxPooling2D(2,2),\n",
        "    tf.keras.layers.BatchNormalization(),\n",
        "    tf.keras.layers.Dropout(0.1),\n",
        "    tf.keras.layers.Conv2D(48, (3, 3), activation = 'relu'),\n",
        "    tf.keras.layers.MaxPooling2D(2,2),\n",
        "    tf.keras.layers.BatchNormalization(),\n",
        "    tf.keras.layers.Dropout(0.1),\n",
        "    tf.keras.layers.Dropout(0.2),\n",
        "    tf.keras.layers.Flatten(),\n",
        "    tf.keras.layers.Dense(64, activation=tf.nn.relu),\n",
        "    tf.keras.layers.Dense(32, activation=tf.nn.relu),\n",
        "    tf.keras.layers.Flatten(),\n",
        "    tf.keras.layers.Dense(2, activation=tf.nn.softmax)\n",
        "])"
      ],
      "metadata": {
        "id": "v_fMWSKekOhA"
      },
      "execution_count": 17,
      "outputs": []
    },
    {
      "cell_type": "code",
      "source": [
        "model.summary()"
      ],
      "metadata": {
        "colab": {
          "base_uri": "https://localhost:8080/"
        },
        "id": "F3_rwL0HkT0W",
        "outputId": "3b957bd2-772c-451b-a21f-3dd9661f7a95"
      },
      "execution_count": 18,
      "outputs": [
        {
          "output_type": "stream",
          "name": "stdout",
          "text": [
            "Model: \"sequential_1\"\n",
            "_________________________________________________________________\n",
            " Layer (type)                Output Shape              Param #   \n",
            "=================================================================\n",
            " conv2d_3 (Conv2D)           (None, 253, 253, 16)      448       \n",
            "                                                                 \n",
            " max_pooling2d_3 (MaxPoolin  (None, 126, 126, 16)      0         \n",
            " g2D)                                                            \n",
            "                                                                 \n",
            " batch_normalization_3 (Bat  (None, 126, 126, 16)      64        \n",
            " chNormalization)                                                \n",
            "                                                                 \n",
            " dropout_4 (Dropout)         (None, 126, 126, 16)      0         \n",
            "                                                                 \n",
            " conv2d_4 (Conv2D)           (None, 124, 124, 32)      4640      \n",
            "                                                                 \n",
            " max_pooling2d_4 (MaxPoolin  (None, 62, 62, 32)        0         \n",
            " g2D)                                                            \n",
            "                                                                 \n",
            " batch_normalization_4 (Bat  (None, 62, 62, 32)        128       \n",
            " chNormalization)                                                \n",
            "                                                                 \n",
            " dropout_5 (Dropout)         (None, 62, 62, 32)        0         \n",
            "                                                                 \n",
            " conv2d_5 (Conv2D)           (None, 60, 60, 48)        13872     \n",
            "                                                                 \n",
            " max_pooling2d_5 (MaxPoolin  (None, 30, 30, 48)        0         \n",
            " g2D)                                                            \n",
            "                                                                 \n",
            " batch_normalization_5 (Bat  (None, 30, 30, 48)        192       \n",
            " chNormalization)                                                \n",
            "                                                                 \n",
            " dropout_6 (Dropout)         (None, 30, 30, 48)        0         \n",
            "                                                                 \n",
            " dropout_7 (Dropout)         (None, 30, 30, 48)        0         \n",
            "                                                                 \n",
            " flatten_2 (Flatten)         (None, 43200)             0         \n",
            "                                                                 \n",
            " dense_3 (Dense)             (None, 64)                2764864   \n",
            "                                                                 \n",
            " dense_4 (Dense)             (None, 32)                2080      \n",
            "                                                                 \n",
            " flatten_3 (Flatten)         (None, 32)                0         \n",
            "                                                                 \n",
            " dense_5 (Dense)             (None, 2)                 66        \n",
            "                                                                 \n",
            "=================================================================\n",
            "Total params: 2786354 (10.63 MB)\n",
            "Trainable params: 2786162 (10.63 MB)\n",
            "Non-trainable params: 192 (768.00 Byte)\n",
            "_________________________________________________________________\n"
          ]
        }
      ]
    },
    {
      "cell_type": "code",
      "source": [
        "label_encoder = LabelEncoder()\n",
        "labels_encoded = label_encoder.fit_transform(labels)\n",
        "\n",
        "X_train, X_test, y_train, y_test = train_test_split(datas, labels_encoded, test_size=0.2, random_state=42)\n",
        "\n",
        "# Normalize pixel values to [0, 1]\n",
        "# X_train /= 255.0\n",
        "# X_test /= 255.0"
      ],
      "metadata": {
        "id": "8SLJJ0cuXvSv"
      },
      "execution_count": 19,
      "outputs": []
    },
    {
      "cell_type": "code",
      "source": [
        "model.compile(optimizer = 'adam', loss = 'sparse_categorical_crossentropy', metrics=['accuracy'])"
      ],
      "metadata": {
        "id": "I4ZEDhcSke5D"
      },
      "execution_count": 20,
      "outputs": []
    },
    {
      "cell_type": "code",
      "source": [
        "# earlystopping = EarlyStopping(monitor =\"val_loss\", mode =\"min\", patience = 2, restore_best_weights = True)callbacks =[earlystopping]\n",
        "\n",
        "ephocs=5\n",
        "mod = model.fit(X_train, y_train, validation_data=(X_test,y_test), batch_size=8, epochs=ephocs)"
      ],
      "metadata": {
        "id": "9D4G_nwikn-L",
        "colab": {
          "base_uri": "https://localhost:8080/"
        },
        "outputId": "9c86f297-7d27-42e9-90a4-cafc68320b16"
      },
      "execution_count": 21,
      "outputs": [
        {
          "output_type": "stream",
          "name": "stdout",
          "text": [
            "Epoch 1/5\n",
            "6/6 [==============================] - 11s 2s/step - loss: 4.3334 - accuracy: 0.5000 - val_loss: 90.0491 - val_accuracy: 0.3636\n",
            "Epoch 2/5\n",
            "6/6 [==============================] - 4s 767ms/step - loss: 0.5090 - accuracy: 0.7955 - val_loss: 71.9849 - val_accuracy: 0.3636\n",
            "Epoch 3/5\n",
            "6/6 [==============================] - 3s 579ms/step - loss: 0.1913 - accuracy: 0.9091 - val_loss: 63.5228 - val_accuracy: 0.3636\n",
            "Epoch 4/5\n",
            "6/6 [==============================] - 4s 763ms/step - loss: 0.3014 - accuracy: 0.9318 - val_loss: 52.7260 - val_accuracy: 0.3636\n",
            "Epoch 5/5\n",
            "6/6 [==============================] - 5s 798ms/step - loss: 0.1801 - accuracy: 0.8636 - val_loss: 29.5165 - val_accuracy: 0.3636\n"
          ]
        }
      ]
    },
    {
      "cell_type": "code",
      "source": [
        "# earlystopping = EarlyStopping(monitor =\"val_loss\", mode =\"min\", patience = 2, restore_best_weights = True)callbacks =[earlystopping]\n",
        "\n",
        "ephocs=6\n",
        "mod2 = model.fit(X_train, y_train, validation_data=(X_test,y_test), batch_size=8, epochs=ephocs)"
      ],
      "metadata": {
        "id": "6EqBlkexbJLV",
        "outputId": "8cba1906-14fc-495a-9a3a-f80070404604",
        "colab": {
          "base_uri": "https://localhost:8080/"
        }
      },
      "execution_count": 22,
      "outputs": [
        {
          "output_type": "stream",
          "name": "stdout",
          "text": [
            "Epoch 1/6\n",
            "6/6 [==============================] - 11s 2s/step - loss: 0.1448 - accuracy: 0.9545 - val_loss: 17.4521 - val_accuracy: 0.3636\n",
            "Epoch 2/6\n",
            "6/6 [==============================] - 6s 1s/step - loss: 0.0164 - accuracy: 0.9773 - val_loss: 5.6762 - val_accuracy: 0.3636\n",
            "Epoch 3/6\n",
            "6/6 [==============================] - 4s 735ms/step - loss: 0.0608 - accuracy: 0.9773 - val_loss: 1.2756 - val_accuracy: 0.6364\n",
            "Epoch 4/6\n",
            "6/6 [==============================] - 6s 1s/step - loss: 1.3013e-04 - accuracy: 1.0000 - val_loss: 1.6967 - val_accuracy: 0.7273\n",
            "Epoch 5/6\n",
            "6/6 [==============================] - 15s 3s/step - loss: 0.0091 - accuracy: 1.0000 - val_loss: 2.0699 - val_accuracy: 0.6364\n",
            "Epoch 6/6\n",
            "6/6 [==============================] - 25s 3s/step - loss: 6.4975e-05 - accuracy: 1.0000 - val_loss: 2.2339 - val_accuracy: 0.7273\n"
          ]
        }
      ]
    },
    {
      "cell_type": "code",
      "source": [
        "plt.plot(mod.history['loss'], label='loss_train')\n",
        "plt.plot(mod.history['val_loss'], label='loss_val')\n",
        "plt.legend()\n",
        "plt.title('TrainVal_Loss in Proposed Neural Network_50')\n",
        "plt.show()\n",
        "plt.savefig('LossVal_loss')"
      ],
      "metadata": {
        "id": "G8yYRRWok0J7",
        "colab": {
          "base_uri": "https://localhost:8080/",
          "height": 483
        },
        "outputId": "2e69eecf-efbc-4731-bf5b-2967deb3dafe"
      },
      "execution_count": 23,
      "outputs": [
        {
          "output_type": "display_data",
          "data": {
            "text/plain": [
              "<Figure size 640x480 with 1 Axes>"
            ],
            "image/png": "[encoded data removed]"
          },
          "metadata": {}
        },
        {
          "output_type": "display_data",
          "data": {
            "text/plain": [
              "<Figure size 640x480 with 0 Axes>"
            ]
          },
          "metadata": {}
        }
      ]
    },
    {
      "cell_type": "code",
      "source": [
        "plt.plot(mod.history['accuracy'], label='train acc')\n",
        "plt.plot(mod.history['val_accuracy'], label='val acc')\n",
        "plt.legend()\n",
        "plt.title('TrainVal_Acc in Proposed Neural Network_50')\n",
        "plt.show()\n",
        "plt.savefig('AccVal_acc')"
      ],
      "metadata": {
        "id": "sdZyJkU2k2rL",
        "colab": {
          "base_uri": "https://localhost:8080/",
          "height": 483
        },
        "outputId": "d22cd460-f531-446a-c847-3cad45f2b6f5"
      },
      "execution_count": 24,
      "outputs": [
        {
          "output_type": "display_data",
          "data": {
            "text/plain": [
              "<Figure size 640x480 with 1 Axes>"
            ],
            "image/png": "[encoded data removed]"
          },
          "metadata": {}
        },
        {
          "output_type": "display_data",
          "data": {
            "text/plain": [
              "<Figure size 640x480 with 0 Axes>"
            ]
          },
          "metadata": {}
        }
      ]
    }
  ]
}